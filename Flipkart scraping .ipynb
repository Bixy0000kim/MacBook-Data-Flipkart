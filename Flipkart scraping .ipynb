{
 "cells": [
  {
   "cell_type": "code",
   "execution_count": 1,
   "id": "e9a7818a",
   "metadata": {},
   "outputs": [],
   "source": [
    "import os\n",
    "os.chdir('D:\\selenium')"
   ]
  },
  {
   "cell_type": "code",
   "execution_count": 2,
   "id": "2bff357b",
   "metadata": {},
   "outputs": [],
   "source": [
    "from selenium import webdriver\n",
    "from bs4 import BeautifulSoup \n",
    "import pandas as pd"
   ]
  },
  {
   "cell_type": "code",
   "execution_count": 28,
   "id": "c19997e2",
   "metadata": {},
   "outputs": [
    {
     "data": {
      "text/plain": [
       "<selenium.webdriver.edge.webdriver.WebDriver (session=\"ab950c6b91ab4a2b792263b12e923fa7\")>"
      ]
     },
     "execution_count": 28,
     "metadata": {},
     "output_type": "execute_result"
    }
   ],
   "source": [
    "browser = webdriver.Edge()\n",
    "browser"
   ]
  },
  {
   "cell_type": "code",
   "execution_count": 4,
   "id": "caf95b43",
   "metadata": {},
   "outputs": [],
   "source": [
    "url = 'https://www.flipkart.com/laptops/pr?sid=6bo%2Cb5g&fm=neo%2Fmerchandising&iid=M_8b3b3f65-7ceb-4375-912c-d2bcdde87c58_1_372UD5BXDFYS_MC.34WHNYFH5V2Y&otracker1=hp_rich_navigation_PINNED_neo%2Fmerchandising_NA_NAV_EXPANDABLE_navigationCard_cc_13_L1_view-all&cid=34WHNYFH5V2Y&p%5B%5D=facets.brand%255B%255D%3DAPPLE&otracker=clp_metro_expandable_6_26.metroExpandable.METRO_EXPANDABLE_Apple_laptops-store_SKIHMOPFPDC3_wp9&fm=neo%2Fmerchandising&iid=M_b4d0e2ef-aaac-4e7e-9272-9b8be53c2dc5_26.SKIHMOPFPDC3&ppt=clp&ppn=laptops-store&ssid=j5fwd6niaz0hnchs1645514684273'"
   ]
  },
  {
   "cell_type": "code",
   "execution_count": 29,
   "id": "ee7fba15",
   "metadata": {},
   "outputs": [],
   "source": [
    "browser.get(url)"
   ]
  },
  {
   "cell_type": "code",
   "execution_count": 30,
   "id": "a7815b10",
   "metadata": {},
   "outputs": [],
   "source": [
    "html = browser.page_source"
   ]
  },
  {
   "cell_type": "code",
   "execution_count": 31,
   "id": "4023972b",
   "metadata": {},
   "outputs": [],
   "source": [
    "soup = BeautifulSoup(html,'html.parser')"
   ]
  },
  {
   "cell_type": "code",
   "execution_count": 23,
   "id": "8b2cabd0",
   "metadata": {},
   "outputs": [
    {
     "data": {
      "text/plain": [
       "['APPLE 2020 Macbook Air M1 - (8 GB/256 GB SSD/Mac OS Big Sur) MGN63HN/A',\n",
       " 'APPLE 2020 Macbook Air M1 - (8 GB/256 GB SSD/Mac OS Big Sur) MGN93HN/A',\n",
       " 'APPLE 2020 Macbook Air M1 - (8 GB/256 GB SSD/Mac OS Big Sur) MGND3HN/A',\n",
       " 'APPLE MacBook Air M1 - (16 GB/512 GB SSD/Mac OS Big Sur) Z124J006KD',\n",
       " 'APPLE MacBook Air M1 - (16 GB/256 GB SSD/Mac OS Big Sur) Z124J001KD',\n",
       " 'APPLE 2020 Macbook Air M1 - (8 GB/512 GB SSD/Mac OS Big Sur) MGN73HN/A',\n",
       " 'APPLE 2021 Macbook Pro M1 Pro - (16 GB/1 TB SSD/Mac OS Monterey) MKGT3HN/A',\n",
       " 'APPLE MacBook Air M1 - (16 GB/512 GB SSD/Mac OS Big Sur) Z124J003KD',\n",
       " 'APPLE MacBook Air M1 - (16 GB/256 GB SSD/Mac OS Big Sur) Z124J005KD',\n",
       " 'APPLE 2020 Macbook Pro M1 - (8 GB/256 GB SSD/Mac OS Big Sur) MYDA2HN/A',\n",
       " 'APPLE 2020 Macbook Air M1 - (8 GB/512 GB SSD/Mac OS Big Sur) MGNA3HN/A',\n",
       " 'APPLE MacBook Air M1 - (16 GB/512 GB SSD/Mac OS Big Sur) Z124J004KD',\n",
       " 'APPLE 2020 Macbook Pro M1 - (8 GB/512 GB SSD/Mac OS Big Sur) MYD92HN/A',\n",
       " 'APPLE 2020 Macbook Pro M1 - (8 GB/256 GB SSD/Mac OS Big Sur) MYD82HN/A',\n",
       " 'APPLE 2020 Macbook Pro M1 - (8 GB/512 GB SSD/Mac OS Big Sur) MYDC2HN/A',\n",
       " 'APPLE MacBook Pro with Touch Bar Core i5 10th Gen - (16 GB/512 GB SSD/Mac OS Catalina) MWP72HN/A',\n",
       " 'APPLE MacBook Pro with Touch Bar Core i5 10th Gen - (16 GB/1 TB SSD/Mac OS Catalina) MWP52HN/A',\n",
       " 'APPLE MacBook Pro with Touch Bar Core i5 10th Gen - (16 GB/1 TB SSD/Mac OS Catalina) MWP82HN/A',\n",
       " 'APPLE MacBook Pro Core i5 8th Gen - (8 GB/512 GB SSD/Mac OS Mojave) MV972HN/A',\n",
       " 'APPLE 2021 Macbook Pro M1 Pro - (16 GB/1 TB SSD/Mac OS Monterey) MKGQ3HN/A',\n",
       " 'APPLE MacBook Air Core i5 10th Gen - (8 GB/512 GB SSD/Mac OS Catalina) MVH22HN/A',\n",
       " 'APPLE 2021 Macbook Pro M1 Pro - (16 GB/512 GB SSD/Mac OS Monterey) MKGR3HN/A',\n",
       " 'APPLE 2021 Macbook Pro M1 Pro - (16 GB/1 TB SSD/Mac OS Monterey) MK1F3HN/A',\n",
       " 'APPLE 2021 Macbook Pro M1 Pro - (16 GB/512 GB SSD/Mac OS Monterey) MK1E3HN/A']"
      ]
     },
     "execution_count": 23,
     "metadata": {},
     "output_type": "execute_result"
    }
   ],
   "source": [
    "Product_Name = [i.text.strip() for i in soup.select('div._4rR01T')]\n",
    "Product_Name"
   ]
  },
  {
   "cell_type": "code",
   "execution_count": 24,
   "id": "6367e9a3",
   "metadata": {},
   "outputs": [
    {
     "data": {
      "text/plain": [
       "[84940,\n",
       " 84940,\n",
       " 84940,\n",
       " 119940,\n",
       " 105940,\n",
       " 105940,\n",
       " 219940,\n",
       " 127940,\n",
       " 105940,\n",
       " 110940,\n",
       " 105940,\n",
       " 127940,\n",
       " 129940,\n",
       " 110940,\n",
       " 129940,\n",
       " 159940,\n",
       " 176940,\n",
       " 176940,\n",
       " 172040,\n",
       " 219940,\n",
       " 106140,\n",
       " 179940,\n",
       " 239940,\n",
       " 219940]"
      ]
     },
     "execution_count": 24,
     "metadata": {},
     "output_type": "execute_result"
    }
   ],
   "source": [
    "Price = [int(i.text.strip().replace('₹','').replace(',','')) for i in soup.select('div._30jeq3._1_WHN1')]\n",
    "Price"
   ]
  },
  {
   "cell_type": "code",
   "execution_count": 34,
   "id": "b100615b",
   "metadata": {},
   "outputs": [
    {
     "data": {
      "text/plain": [
       "[4.7,\n",
       " 4.7,\n",
       " 4.7,\n",
       " 4.5,\n",
       " 4.5,\n",
       " 4.7,\n",
       " 4.8,\n",
       " 4.5,\n",
       " 4.5,\n",
       " 4.7,\n",
       " 4.7,\n",
       " 4.7,\n",
       " 4.6,\n",
       " 4.5,\n",
       " 4.6,\n",
       " 4.4,\n",
       " 4.8,\n",
       " 4.7,\n",
       " 4.8,\n",
       " 4.2,\n",
       " 4.5,\n",
       " 4.8,\n",
       " 4.8,\n",
       " 4.8]"
      ]
     },
     "execution_count": 34,
     "metadata": {},
     "output_type": "execute_result"
    }
   ],
   "source": [
    "Rating_out_of_5 = [float(i.text) for i in soup.select('div._3LWZlK')]\n",
    "Rating_out_of_5"
   ]
  },
  {
   "cell_type": "code",
   "execution_count": 32,
   "id": "1a7fe79e",
   "metadata": {},
   "outputs": [
    {
     "data": {
      "text/plain": [
       "[6472,\n",
       " 6472,\n",
       " 6472,\n",
       " 13,\n",
       " 13,\n",
       " 759,\n",
       " 33,\n",
       " 13,\n",
       " 13,\n",
       " 625,\n",
       " 625,\n",
       " 759,\n",
       " 390,\n",
       " 13,\n",
       " 390,\n",
       " 32,\n",
       " 91,\n",
       " 31,\n",
       " 33,\n",
       " 108,\n",
       " 435,\n",
       " 33,\n",
       " 33,\n",
       " 33]"
      ]
     },
     "execution_count": 32,
     "metadata": {},
     "output_type": "execute_result"
    }
   ],
   "source": [
    "Total_Ratings = [int(i.text.strip().split('\\xa0')[0].replace(' Ratings','').replace(',','')) for i in soup.select('span._2_R_DZ')]\n",
    "Total_Ratings"
   ]
  },
  {
   "cell_type": "code",
   "execution_count": 33,
   "id": "c64f4c71",
   "metadata": {},
   "outputs": [
    {
     "data": {
      "text/plain": [
       "[613,\n",
       " 613,\n",
       " 613,\n",
       " 0,\n",
       " 0,\n",
       " 91,\n",
       " 8,\n",
       " 0,\n",
       " 0,\n",
       " 68,\n",
       " 68,\n",
       " 91,\n",
       " 45,\n",
       " 0,\n",
       " 45,\n",
       " 5,\n",
       " 5,\n",
       " 3,\n",
       " 8,\n",
       " 13,\n",
       " 40,\n",
       " 8,\n",
       " 8,\n",
       " 8]"
      ]
     },
     "execution_count": 33,
     "metadata": {},
     "output_type": "execute_result"
    }
   ],
   "source": [
    "Total_Reviews = [int(i.text.strip().split('\\xa0')[2].replace(' Reviews','')) for i in soup.select('span._2_R_DZ')]\n",
    "Total_Reviews"
   ]
  },
  {
   "cell_type": "code",
   "execution_count": 13,
   "id": "49fe7560",
   "metadata": {},
   "outputs": [],
   "source": [
    "data = list([])\n",
    "for r in soup.select('ul._1xgFaf'):\n",
    "    data.append([i.text.strip() for i in r.find_all('li')])"
   ]
  },
  {
   "cell_type": "code",
   "execution_count": 22,
   "id": "7069a667",
   "metadata": {},
   "outputs": [
    {
     "data": {
      "text/plain": [
       "[['Apple M1 Processor',\n",
       "  '8 GB DDR4 RAM',\n",
       "  'Mac OS Operating System',\n",
       "  '256 GB SSD',\n",
       "  '33.78 cm (13.3 inch) Display',\n",
       "  'Built-in Apps: iMovie, Siri, GarageBand, Pages, Numbers, Photos, Keynote, Safari, Mail, FaceTime, Messages, Maps, Stocks, Home, Voice Memos, Notes, Calendar, Contacts, Reminders, Photo Booth, Preview, Books, App Store, Time Machine, TV, Music, Podcasts, Find My, QuickTime Player',\n",
       "  '1 Year Limited Warra\\xadnty'],\n",
       " ['Apple M1 Processor',\n",
       "  '8 GB DDR4 RAM',\n",
       "  'Mac OS Operating System',\n",
       "  '256 GB SSD',\n",
       "  '33.78 cm (13.3 inch) Display',\n",
       "  'Built-in Apps: iMovie, Siri, GarageBand, Pages, Numbers, Photos, Keynote, Safari, Mail, FaceTime, Messages, Maps, Stocks, Home, Voice Memos, Notes, Calendar, Contacts, Reminders, Photo Booth, Preview, Books, App Store, Time Machine, TV, Music, Podcasts, Find My, QuickTime Player',\n",
       "  '1 Year Limited Warra\\xadnty'],\n",
       " ['Apple M1 Processor',\n",
       "  '8 GB DDR4 RAM',\n",
       "  'Mac OS Operating System',\n",
       "  '256 GB SSD',\n",
       "  '33.78 cm (13.3 inch) Display',\n",
       "  'Built-in Apps: iMovie, Siri, GarageBand, Pages, Numbers, Photos, Keynote, Safari, Mail, FaceTime, Messages, Maps, Stocks, Home, Voice Memos, Notes, Calendar, Contacts, Reminders, Photo Booth, Preview, Books, App Store, Time Machine, TV, Music, Podcasts, Find My, QuickTime Player',\n",
       "  '1 Year Limited Warra\\xadnty'],\n",
       " ['Apple M1 Processor',\n",
       "  '16 GB DDR4 RAM',\n",
       "  'Mac OS Operating System',\n",
       "  '512 GB SSD',\n",
       "  '33.78 cm (13.3 inch) Display',\n",
       "  'Built-in Apps: iMovie, Siri, GarageBand, Pages, Numbers, Photos, Keynote, Safari, Mail, FaceTime, Messages, Maps, Stocks, Home, Voice Memos, Notes, Calendar, Contacts, Reminders, Photo Booth, Preview, Books, App Store, Time Machine, TV, Music, Podcasts, Find My, QuickTime Player',\n",
       "  '1 Year Limited Warranty'],\n",
       " ['Apple M1 Processor',\n",
       "  '16 GB DDR4 RAM',\n",
       "  'Mac OS Operating System',\n",
       "  '256 GB SSD',\n",
       "  '33.78 cm (13.3 inch) Display',\n",
       "  'Built-in Apps: iMovie, Siri, GarageBand, Pages, Numbers, Photos, Keynote, Safari, Mail, FaceTime, Messages, Maps, Stocks, Home, Voice Memos, Notes, Calendar, Contacts, Reminders, Photo Booth, Preview, Books, App Store, Time Machine, TV, Music, Podcasts, Find My, QuickTime Player',\n",
       "  '1 Year Limited Warranty'],\n",
       " ['Apple M1 Processor',\n",
       "  '8 GB DDR4 RAM',\n",
       "  'Mac OS Operating System',\n",
       "  '512 GB SSD',\n",
       "  '33.78 cm (13.3 inch) Display',\n",
       "  'Built-in Apps: iMovie, Siri, GarageBand, Pages, Numbers, Photos, Keynote, Safari, Mail, FaceTime, Messages, Maps, Stocks, Home, Voice Memos, Notes, Calendar, Contacts, Reminders, Photo Booth, Preview, Books, App Store, Time Machine, TV, Music, Podcasts, Find My, QuickTime Player',\n",
       "  '1 Year Limited Warra\\xadnty'],\n",
       " ['Apple M1 Pro Processor',\n",
       "  '16 GB Unified Memory RAM',\n",
       "  'Mac OS Operating System',\n",
       "  '1 TB SSD',\n",
       "  '36.07 cm (14.2 inch) Display',\n",
       "  'iMovie, Siri, GarageBand, Pages, Numbers, Photos, Keynote, Safari, Mail, FaceTime, Messages, Maps, Stocks, Home, Voice Memos, Notes, Calendar, Contacts, Reminders, Photo Booth, Preview, Books, App Store, Time Machine, TV, Music, Podcasts, Find My, QuickTime Player',\n",
       "  '1 Year Limited Warranty'],\n",
       " ['Apple M1 Processor',\n",
       "  '16 GB DDR4 RAM',\n",
       "  'Mac OS Operating System',\n",
       "  '512 GB SSD',\n",
       "  '33.78 cm (13.3 inch) Display',\n",
       "  'Built-in Apps: iMovie, Siri, GarageBand, Pages, Numbers, Photos, Keynote, Safari, Mail, FaceTime, Messages, Maps, Stocks, Home, Voice Memos, Notes, Calendar, Contacts, Reminders, Photo Booth, Preview, Books, App Store, Time Machine, TV, Music, Podcasts, Find My, QuickTime Player',\n",
       "  '1 Year Limited Warranty'],\n",
       " ['Apple M1 Processor',\n",
       "  '16 GB DDR4 RAM',\n",
       "  'Mac OS Operating System',\n",
       "  '256 GB SSD',\n",
       "  '33.78 cm (13.3 inch) Display',\n",
       "  'Built-in Apps: iMovie, Siri, GarageBand, Pages, Numbers, Photos, Keynote, Safari, Mail, FaceTime, Messages, Maps, Stocks, Home, Voice Memos, Notes, Calendar, Contacts, Reminders, Photo Booth, Preview, Books, App Store, Time Machine, TV, Music, Podcasts, Find My, QuickTime Player',\n",
       "  '1 Year Limited Warranty'],\n",
       " ['Apple M1 Processor',\n",
       "  '8 GB DDR4 RAM',\n",
       "  'Mac OS Operating System',\n",
       "  '256 GB SSD',\n",
       "  '33.78 cm (13.3 inch) Display',\n",
       "  'Built-in Apps: iMovie, Siri, GarageBand, Pages, Numbers, Photos, Keynote, Safari, Mail, FaceTime, Messages, Maps, Stocks, Home, Voice Memos, Notes, Calendar, Contacts, Reminders, Photo Booth, Preview, Books, App Store, Time Machine, TV, Music, Podcasts, Find My, QuickTime Player',\n",
       "  '1 Year Limited Warra\\xadnty'],\n",
       " ['Apple M1 Processor',\n",
       "  '8 GB DDR4 RAM',\n",
       "  'Mac OS Operating System',\n",
       "  '512 GB SSD',\n",
       "  '33.78 cm (13.3 inch) Display',\n",
       "  'Built-in Apps: iMovie, Siri, GarageBand, Pages, Numbers, Photos, Keynote, Safari, Mail, FaceTime, Messages, Maps, Stocks, Home, Voice Memos, Notes, Calendar, Contacts, Reminders, Photo Booth, Preview, Books, App Store, Time Machine, TV, Music, Podcasts, Find My, QuickTime Player',\n",
       "  '1 Year Limited Warra\\xadnty'],\n",
       " ['Apple M1 Processor',\n",
       "  '16 GB DDR4 RAM',\n",
       "  'Mac OS Operating System',\n",
       "  '512 GB SSD',\n",
       "  '33.78 cm (13.3 inch) Display',\n",
       "  'Built-in Apps: iMovie, Siri, GarageBand, Pages, Numbers, Photos, Keynote, Safari, Mail, FaceTime, Messages, Maps, Stocks, Home, Voice Memos, Notes, Calendar, Contacts, Reminders, Photo Booth, Preview, Books, App Store, Time Machine, TV, Music, Podcasts, Find My, QuickTime Player',\n",
       "  '1 Year Limited Warranty'],\n",
       " ['Apple M1 Processor',\n",
       "  '8 GB DDR4 RAM',\n",
       "  'Mac OS Operating System',\n",
       "  '512 GB SSD',\n",
       "  '33.78 cm (13.3 inch) Display',\n",
       "  'Built-in Apps: iMovie, Siri, GarageBand, Pages, Numbers, Photos, Keynote, Safari, Mail, FaceTime, Messages, Maps, Stocks, Home, Voice Memos, Notes, Calendar, Contacts, Reminders, Photo Booth, Preview, Books, App Store, Time Machine, TV, Music, Podcasts, Find My, QuickTime Player',\n",
       "  '1 Year Limited Warra\\xadnty'],\n",
       " ['Apple M1 Processor',\n",
       "  '8 GB DDR4 RAM',\n",
       "  'Mac OS Operating System',\n",
       "  '256 GB SSD',\n",
       "  '33.78 cm (13.3 inch) Display',\n",
       "  'Built-in Apps: iMovie, Siri, GarageBand, Pages, Numbers, Photos, Keynote, Safari, Mail, FaceTime, Messages, Maps, Stocks, Home, Voice Memos, Notes, Calendar, Contacts, Reminders, Photo Booth, Preview, Books, App Store, Time Machine, TV, Music, Podcasts, Find My, QuickTime Player',\n",
       "  '1 Year Limited Warra\\xadnty'],\n",
       " ['Apple M1 Processor',\n",
       "  '8 GB DDR4 RAM',\n",
       "  'Mac OS Operating System',\n",
       "  '512 GB SSD',\n",
       "  '33.78 cm (13.3 inch) Display',\n",
       "  'Built-in Apps: iMovie, Siri, GarageBand, Pages, Numbers, Photos, Keynote, Safari, Mail, FaceTime, Messages, Maps, Stocks, Home, Voice Memos, Notes, Calendar, Contacts, Reminders, Photo Booth, Preview, Books, App Store, Time Machine, TV, Music, Podcasts, Find My, QuickTime Player',\n",
       "  '1 Year Limited Warra\\xadnty'],\n",
       " ['Intel Core i5 Processor (10th Gen)',\n",
       "  '16 GB LPDDR4X RAM',\n",
       "  'Mac OS Operating System',\n",
       "  '512 GB SSD',\n",
       "  '33.02 cm (13 inch) Display',\n",
       "  'Built-in Apps: Photos, iMovie, GarageBand, Pages, Numbers, Keynote, Siri, Safari, Mail, FaceTime, Messages, Maps, News, Stocks, Home, Voice Memos, Notes, Calendar, Contacts, Reminders, Photo Booth, Preview, Music, Podcasts, TV, Books, App Store, Time Machine, Find My, QuickTime Player',\n",
       "  '1 Year Limited Hardware Warranty'],\n",
       " ['Intel Core i5 Processor (10th Gen)',\n",
       "  '16 GB LPDDR4X RAM',\n",
       "  'Mac OS Operating System',\n",
       "  '1 TB SSD',\n",
       "  '33.02 cm (13 inch) Display',\n",
       "  'Built-in Apps: Photos, iMovie, GarageBand, Pages, Numbers, Keynote, Siri, Safari, Mail, FaceTime, Messages, Maps, News, Stocks, Home, Voice Memos, Notes, Calendar, Contacts, Reminders, Photo Booth, Preview, Music, Podcasts, TV, Books, App Store, Time Machine, Find My, QuickTime Player',\n",
       "  '1 Year Limited Hardware Warranty'],\n",
       " ['Intel Core i5 Processor (10th Gen)',\n",
       "  '16 GB LPDDR4X RAM',\n",
       "  'Mac OS Operating System',\n",
       "  '1 TB SSD',\n",
       "  '33.02 cm (13 inch) Display',\n",
       "  'Built-in Apps: Photos, iMovie, GarageBand, Pages, Numbers, Keynote, Siri, Safari, Mail, FaceTime, Messages, Maps, News, Stocks, Home, Voice Memos, Notes, Calendar, Contacts, Reminders, Photo Booth, Preview, Music, Podcasts, TV, Books, App Store, Time Machine, Find My, QuickTime Player',\n",
       "  '1 Year Limited Hardware Warranty'],\n",
       " ['Intel Core i5 Processor (8th Gen)',\n",
       "  '8 GB DDR3 RAM',\n",
       "  'Mac OS Operating System',\n",
       "  '512 GB SSD',\n",
       "  '33.78 cm (13.3 inch) Display',\n",
       "  'Built-in Apps: Keynote, Siri, Safari, FaceTime, App Store, iTunes, Time Machine, iMovie, GarageBand, Pages, Notes',\n",
       "  '1 Year Onsite Warranty'],\n",
       " ['Apple M1 Pro Processor',\n",
       "  '16 GB Unified Memory RAM',\n",
       "  'Mac OS Operating System',\n",
       "  '1 TB SSD',\n",
       "  '36.07 cm (14.2 inch) Display',\n",
       "  'iMovie, Siri, GarageBand, Pages, Numbers, Photos, Keynote, Safari, Mail, FaceTime, Messages, Maps, Stocks, Home, Voice Memos, Notes, Calendar, Contacts, Reminders, Photo Booth, Preview, Books, App Store, Time Machine, TV, Music, Podcasts, Find My, QuickTime Player',\n",
       "  '1 Year Limited Warranty'],\n",
       " ['Intel Core i5 Processor (10th Gen)',\n",
       "  '8 GB LPDDR4X RAM',\n",
       "  'Mac OS Operating System',\n",
       "  '512 GB SSD',\n",
       "  '33.78 cm (13.3 inch) Display',\n",
       "  'Built-in Apps: Photos, iMovie, GarageBand, Pages, Numbers, Keynote, Siri, Safari, Mail, FaceTime, Messages, Maps, News, Stocks, Home, Voice Memos, Notes, Calendar, Contacts, Reminders, Photo Booth, Preview, Books, App Store, Time Machine, TV, Music, Podcasts, Find My, QuickTime Player',\n",
       "  '1 Year Limited Warranty'],\n",
       " ['Apple M1 Pro Processor',\n",
       "  '16 GB Unified Memory RAM',\n",
       "  'Mac OS Operating System',\n",
       "  '512 GB SSD',\n",
       "  '36.07 cm (14.2 inch) Display',\n",
       "  'iMovie, Siri, GarageBand, Pages, Numbers, Photos, Keynote, Safari, Mail, FaceTime, Messages, Maps, Stocks, Home, Voice Memos, Notes, Calendar, Contacts, Reminders, Photo Booth, Preview, Books, App Store, Time Machine, TV, Music, Podcasts, Find My, QuickTime Player',\n",
       "  '1 Year Limited Warranty'],\n",
       " ['Apple M1 Pro Processor',\n",
       "  '16 GB Unified Memory RAM',\n",
       "  'Mac OS Operating System',\n",
       "  '1 TB SSD',\n",
       "  '41.15 cm (16.2 inch) Display',\n",
       "  'iMovie, Siri, GarageBand, Pages, Numbers, Photos, Keynote, Safari, Mail, FaceTime, Messages, Maps, Stocks, Home, Voice Memos, Notes, Calendar, Contacts, Reminders, Photo Booth, Preview, Books, App Store, Time Machine, TV, Music, Podcasts, Find My, QuickTime Player',\n",
       "  '1 Year Limited Warranty'],\n",
       " ['Apple M1 Pro Processor',\n",
       "  '16 GB Unified Memory RAM',\n",
       "  'Mac OS Operating System',\n",
       "  '512 GB SSD',\n",
       "  '41.15 cm (16.2 inch) Display',\n",
       "  'iMovie, Siri, GarageBand, Pages, Numbers, Photos, Keynote, Safari, Mail, FaceTime, Messages, Maps, Stocks, Home, Voice Memos, Notes, Calendar, Contacts, Reminders, Photo Booth, Preview, Books, App Store, Time Machine, TV, Music, Podcasts, Find My, QuickTime Player',\n",
       "  '1 Year Limited Warranty']]"
      ]
     },
     "execution_count": 22,
     "metadata": {},
     "output_type": "execute_result"
    }
   ],
   "source": [
    "data"
   ]
  },
  {
   "cell_type": "code",
   "execution_count": 35,
   "id": "8dd2399e",
   "metadata": {},
   "outputs": [],
   "source": [
    "def Flipkart():\n",
    "    Product_Name = [i.text.strip() for i in soup.select('div._4rR01T')]\n",
    "    Price = [int(i.text.strip().replace('₹','').replace(',','')) for i in soup.select('div._30jeq3._1_WHN1')]\n",
    "    Rating_out_of_5 = [float(i.text) for i in soup.select('div._3LWZlK')]\n",
    "    Total_Ratings = [int(i.text.strip().split('\\xa0')[0].replace(' Ratings','').replace(',','')) for i in soup.select('span._2_R_DZ')]\n",
    "    Total_Reviews = [int(i.text.strip().split('\\xa0')[2].replace(' Reviews','')) for i in soup.select('span._2_R_DZ')]\n",
    "    data = []\n",
    "    for r in soup.select('ul._1xgFaf'):\n",
    "        data.append([i.text.strip() for i in r.find_all('li')])\n",
    "    return pd.DataFrame({'Product name': Product_Name, 'Price': Price, 'Rating of 5': Rating_out_of_5, 'Total Ratings': Total_Ratings\n",
    "                        ,'Total Reviews': Total_Reviews, 'Specifications': data})"
   ]
  },
  {
   "cell_type": "code",
   "execution_count": 36,
   "id": "aab86723",
   "metadata": {},
   "outputs": [],
   "source": [
    "df = Flipkart()"
   ]
  },
  {
   "cell_type": "code",
   "execution_count": 37,
   "id": "4bc16448",
   "metadata": {},
   "outputs": [
    {
     "data": {
      "text/html": [
       "<div>\n",
       "<style scoped>\n",
       "    .dataframe tbody tr th:only-of-type {\n",
       "        vertical-align: middle;\n",
       "    }\n",
       "\n",
       "    .dataframe tbody tr th {\n",
       "        vertical-align: top;\n",
       "    }\n",
       "\n",
       "    .dataframe thead th {\n",
       "        text-align: right;\n",
       "    }\n",
       "</style>\n",
       "<table border=\"1\" class=\"dataframe\">\n",
       "  <thead>\n",
       "    <tr style=\"text-align: right;\">\n",
       "      <th></th>\n",
       "      <th>Product name</th>\n",
       "      <th>Price</th>\n",
       "      <th>Rating of 5</th>\n",
       "      <th>Total Ratings</th>\n",
       "      <th>Total Reviews</th>\n",
       "      <th>Specifications</th>\n",
       "    </tr>\n",
       "  </thead>\n",
       "  <tbody>\n",
       "    <tr>\n",
       "      <th>0</th>\n",
       "      <td>APPLE 2020 Macbook Air M1 - (8 GB/256 GB SSD/M...</td>\n",
       "      <td>84940</td>\n",
       "      <td>4.7</td>\n",
       "      <td>6472</td>\n",
       "      <td>613</td>\n",
       "      <td>[Apple M1 Processor, 8 GB DDR4 RAM, Mac OS Ope...</td>\n",
       "    </tr>\n",
       "    <tr>\n",
       "      <th>1</th>\n",
       "      <td>APPLE 2020 Macbook Air M1 - (8 GB/256 GB SSD/M...</td>\n",
       "      <td>84940</td>\n",
       "      <td>4.7</td>\n",
       "      <td>6472</td>\n",
       "      <td>613</td>\n",
       "      <td>[Apple M1 Processor, 8 GB DDR4 RAM, Mac OS Ope...</td>\n",
       "    </tr>\n",
       "    <tr>\n",
       "      <th>2</th>\n",
       "      <td>APPLE 2020 Macbook Air M1 - (8 GB/256 GB SSD/M...</td>\n",
       "      <td>84940</td>\n",
       "      <td>4.7</td>\n",
       "      <td>6472</td>\n",
       "      <td>613</td>\n",
       "      <td>[Apple M1 Processor, 8 GB DDR4 RAM, Mac OS Ope...</td>\n",
       "    </tr>\n",
       "    <tr>\n",
       "      <th>3</th>\n",
       "      <td>APPLE MacBook Air M1 - (16 GB/512 GB SSD/Mac O...</td>\n",
       "      <td>119940</td>\n",
       "      <td>4.5</td>\n",
       "      <td>13</td>\n",
       "      <td>0</td>\n",
       "      <td>[Apple M1 Processor, 16 GB DDR4 RAM, Mac OS Op...</td>\n",
       "    </tr>\n",
       "    <tr>\n",
       "      <th>4</th>\n",
       "      <td>APPLE MacBook Air M1 - (16 GB/256 GB SSD/Mac O...</td>\n",
       "      <td>105940</td>\n",
       "      <td>4.5</td>\n",
       "      <td>13</td>\n",
       "      <td>0</td>\n",
       "      <td>[Apple M1 Processor, 16 GB DDR4 RAM, Mac OS Op...</td>\n",
       "    </tr>\n",
       "  </tbody>\n",
       "</table>\n",
       "</div>"
      ],
      "text/plain": [
       "                                        Product name   Price  Rating of 5  \\\n",
       "0  APPLE 2020 Macbook Air M1 - (8 GB/256 GB SSD/M...   84940          4.7   \n",
       "1  APPLE 2020 Macbook Air M1 - (8 GB/256 GB SSD/M...   84940          4.7   \n",
       "2  APPLE 2020 Macbook Air M1 - (8 GB/256 GB SSD/M...   84940          4.7   \n",
       "3  APPLE MacBook Air M1 - (16 GB/512 GB SSD/Mac O...  119940          4.5   \n",
       "4  APPLE MacBook Air M1 - (16 GB/256 GB SSD/Mac O...  105940          4.5   \n",
       "\n",
       "   Total Ratings  Total Reviews  \\\n",
       "0           6472            613   \n",
       "1           6472            613   \n",
       "2           6472            613   \n",
       "3             13              0   \n",
       "4             13              0   \n",
       "\n",
       "                                      Specifications  \n",
       "0  [Apple M1 Processor, 8 GB DDR4 RAM, Mac OS Ope...  \n",
       "1  [Apple M1 Processor, 8 GB DDR4 RAM, Mac OS Ope...  \n",
       "2  [Apple M1 Processor, 8 GB DDR4 RAM, Mac OS Ope...  \n",
       "3  [Apple M1 Processor, 16 GB DDR4 RAM, Mac OS Op...  \n",
       "4  [Apple M1 Processor, 16 GB DDR4 RAM, Mac OS Op...  "
      ]
     },
     "execution_count": 37,
     "metadata": {},
     "output_type": "execute_result"
    }
   ],
   "source": [
    "df.head()"
   ]
  },
  {
   "cell_type": "code",
   "execution_count": 174,
   "id": "2fd2df0d",
   "metadata": {},
   "outputs": [],
   "source": [
    "df.to_csv('Flipkart MacBooks.csv')"
   ]
  },
  {
   "cell_type": "code",
   "execution_count": 42,
   "id": "6130f293",
   "metadata": {},
   "outputs": [
    {
     "data": {
      "text/plain": [
       "<bound method NDFrame.describe of 0     4.7\n",
       "1     4.7\n",
       "2     4.7\n",
       "3     4.5\n",
       "4     4.5\n",
       "5     4.7\n",
       "6     4.8\n",
       "7     4.5\n",
       "8     4.5\n",
       "9     4.7\n",
       "10    4.7\n",
       "11    4.7\n",
       "12    4.6\n",
       "13    4.5\n",
       "14    4.6\n",
       "15    4.4\n",
       "16    4.8\n",
       "17    4.7\n",
       "18    4.8\n",
       "19    4.2\n",
       "20    4.5\n",
       "21    4.8\n",
       "22    4.8\n",
       "23    4.8\n",
       "Name: Rating of 5, dtype: float64>"
      ]
     },
     "execution_count": 42,
     "metadata": {},
     "output_type": "execute_result"
    }
   ],
   "source": [
    "df['Rating of 5'].describe"
   ]
  },
  {
   "cell_type": "code",
   "execution_count": null,
   "id": "9d9ef337",
   "metadata": {},
   "outputs": [],
   "source": []
  }
 ],
 "metadata": {
  "kernelspec": {
   "display_name": "Python 3 (ipykernel)",
   "language": "python",
   "name": "python3"
  },
  "language_info": {
   "codemirror_mode": {
    "name": "ipython",
    "version": 3
   },
   "file_extension": ".py",
   "mimetype": "text/x-python",
   "name": "python",
   "nbconvert_exporter": "python",
   "pygments_lexer": "ipython3",
   "version": "3.9.7"
  }
 },
 "nbformat": 4,
 "nbformat_minor": 5
}
